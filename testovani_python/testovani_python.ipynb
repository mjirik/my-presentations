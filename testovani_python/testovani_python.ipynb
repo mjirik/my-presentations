{
 "cells": [
  {
   "cell_type": "markdown",
   "metadata": {},
   "source": [
    "# Testing in Python and Continuous Integration\n",
    "\n",
    "\n",
    "* pytest\n",
    "* travis-ci\n",
    "* coveralls\n",
    "* mock\n",
    "\n",
    "[Testování pro programátory - Pavel Herout](https://www.zbozi.cz/vyrobek/testovani-pro-programatory-pavel-herout/)"
   ]
  },
  {
   "cell_type": "markdown",
   "metadata": {},
   "source": [
    "## Install\n",
    "\n",
    "```bash\n",
    "conda install -c conda-forge pytest-cov\n",
    "```"
   ]
  },
  {
   "cell_type": "markdown",
   "metadata": {},
   "source": [
    "## Project structure\n",
    "\n",
    "* `myproject_repository`\n",
    "  + `mypackage`\n",
    "    - `__init__.py`*\n",
    "    + `myscript.py`\n",
    "    + `mysecondscript.py`\n",
    "  + `tests`\n",
    "    + `test_sample.py`\n",
    "    + `myscript_test.py`\n",
    "  - `setup.py`*\n",
    "  - `.git`*\n",
    "  - `README.md`*\n",
    "  \n",
    "  \n",
    "`*` You don't need the files marked with star"
   ]
  },
  {
   "cell_type": "markdown",
   "metadata": {},
   "source": [
    "# Pytest\n",
    "\n",
    "## Run your first test"
   ]
  },
  {
   "cell_type": "code",
   "execution_count": 31,
   "metadata": {},
   "outputs": [],
   "source": [
    "# content of test_sample.py\n",
    "def func(x):\n",
    "    return x + 1\n",
    "\n",
    "\n",
    "def test_answer():\n",
    "    assert func(3) == 5\n"
   ]
  },
  {
   "cell_type": "markdown",
   "metadata": {},
   "source": [
    "Go to directory\n",
    "```bash\n",
    "cd myproject_repository\n",
    "```\n",
    "\n",
    "Run test with\n",
    "\n",
    "```bash\n",
    "python -m pytest tests\n",
    "```"
   ]
  },
  {
   "cell_type": "markdown",
   "metadata": {},
   "source": [
    "```bash\n",
    "$ pytest\n",
    "=========================== test session starts ============================\n",
    "platform linux -- Python 3.x.y, pytest-5.x.y, py-1.x.y, pluggy-0.x.y\n",
    "cachedir: $PYTHON_PREFIX/.pytest_cache\n",
    "rootdir: $REGENDOC_TMPDIR\n",
    "collected 1 item\n",
    "\n",
    "test_sample.py F                                                     [100%]\n",
    "\n",
    "================================= FAILURES =================================\n",
    "_______________________________ test_answer ________________________________\n",
    "\n",
    "    def test_answer():\n",
    ">       assert func(3) == 5\n",
    "E       assert 4 == 5\n",
    "E        +  where 4 = func(3)\n",
    "\n",
    "test_sample.py:6: AssertionError\n",
    "========================= short test summary info ==========================\n",
    "FAILED test_sample.py::test_answer - assert 4 == 5\n",
    "============================ 1 failed in 0.12s =============================\n",
    "```"
   ]
  },
  {
   "cell_type": "markdown",
   "metadata": {},
   "source": [
    "## Naming convetions\n",
    "\n",
    "\n",
    "- test files - should start or end with `test`. E.g. `test_mypackage.py` or `mypackage_test.py\n",
    "- test names - should start with `test`. E.g. `def test_example()`.\n",
    "\n",
    "[Naming conventions and test discovery documentation](https://pytest.readthedocs.io/en/reorganize-docs/new-docs/user/naming_conventions.html)"
   ]
  },
  {
   "cell_type": "markdown",
   "metadata": {},
   "source": [
    "## Test my module"
   ]
  },
  {
   "cell_type": "code",
   "execution_count": 37,
   "metadata": {},
   "outputs": [],
   "source": [
    "# myscript.py\n",
    "def soucet_plus_jedna(a,b):\n",
    "    return a + b + 1"
   ]
  },
  {
   "cell_type": "markdown",
   "metadata": {},
   "source": [
    "```python\n",
    "# myscript_test.py \n",
    "import mypackage\n",
    "\n",
    "def test_soucet_plus_jedna():\n",
    "    assert mypackage.soucet_plus_jedna(5,5) == 11, \"reason it should be 5+5+1\"\n",
    "    assert mypackage.soucet_plus_jedna(0,0) == 1, \"reason it should be 0+0+1\"\n",
    "```"
   ]
  },
  {
   "cell_type": "markdown",
   "metadata": {},
   "source": [
    "```bash\n",
    "python -m pytest tests\n",
    "```"
   ]
  },
  {
   "cell_type": "markdown",
   "metadata": {},
   "source": [
    "## Pyhon -m parameter\n",
    "\n",
    "\n",
    "```bash\n",
    "python pytest\n",
    "```\n",
    "vs \n",
    "```bash\n",
    "python -m pytest\n",
    "```\n",
    "\n",
    "The second add also current directory into `PATH`"
   ]
  },
  {
   "cell_type": "markdown",
   "metadata": {},
   "source": [
    "## Usefull parameters and plugins"
   ]
  },
  {
   "cell_type": "markdown",
   "metadata": {},
   "source": [
    "Exit after first failed\n",
    "```bash\n",
    "python -m pytest -x\n",
    "```\n",
    "\n",
    "Run first failed\n",
    "```bash\n",
    "python -m pytest -ff\n",
    "```\n",
    "\n",
    "Print 10 longest tests and measure their time\n",
    "```bash\n",
    "python -m pytest --duration=10\n",
    "```\n"
   ]
  },
  {
   "cell_type": "markdown",
   "metadata": {},
   "source": [
    "## Fixtures\n",
    "\n",
    "[Fixtures docs](https://docs.pytest.org/en/latest/fixture.html#fixtures)"
   ]
  },
  {
   "cell_type": "code",
   "execution_count": null,
   "metadata": {},
   "outputs": [],
   "source": [
    "# mymodule_test.py\n",
    "import pytest\n",
    "pytest_plugins = 'pytester'\n",
    "\n",
    "def test_my_harddrive_function(tmp_path):\n",
    "    #tmp_path is directory given by pytest\n",
    "    fn = tmp_path / \"fn.txt\"\n",
    "    with open(fn, 'w') as f:\n",
    "        f.write(\"ahoj\")\n",
    "    "
   ]
  },
  {
   "cell_type": "markdown",
   "metadata": {},
   "source": [
    "### My fixture"
   ]
  },
  {
   "cell_type": "code",
   "execution_count": 44,
   "metadata": {},
   "outputs": [],
   "source": [
    "# mymodule_test.py\n",
    "import pytest\n",
    "pytest_plugins = 'pytester'\n",
    "\n",
    "@pytest.fixture\n",
    "def create_test_data():\n",
    "    return [\"monday\",\"tuesday\",\"wednesday\"]\n",
    "\n",
    "def test_write_my_data(create_test_data, tmp_path):\n",
    "    #tmp_path is directory given by pytest\n",
    "    fn = tmp_path / \"fn.txt\"\n",
    "    with open(fn, 'w') as f:\n",
    "        f.write(\",\".join(create_test_data()))"
   ]
  },
  {
   "cell_type": "markdown",
   "metadata": {},
   "source": [
    "# Continuous Integration with travis-ci.org\n",
    "\n",
    "[Travis homepage](https://travis-ci.org/github/mjirik)\n",
    "\n",
    "* Use GitHub account to login\n",
    "* Create `.travis.yml` in `myproject_repository`\n",
    "* Select your project from GitHub"
   ]
  },
  {
   "cell_type": "markdown",
   "metadata": {},
   "source": [
    "```yaml\n",
    "# .travis.yml\n",
    "language: python\n",
    "python: 2.7\n",
    "os: linux\n",
    "env:\n",
    "    - CONDA_PYTHON_VERSION=3.7\n",
    "    - CONDA_PYTHON_VERSION=3.8\n",
    "services:\n",
    "    - xvfb  # for PyQt tests\n",
    "matrix:\n",
    "    allow_failures:\n",
    "        - env: CONDA_PYTHON_VERSION=3.8\n",
    "    fast_finish: true\n",
    "before_script:\n",
    "    - \"export DISPLAY=:99.0\" # testing PyQt\n",
    "before_install:\n",
    "    - wget http://home.zcu.cz/~mjirik/lisa/install/install_conda.sh && source install_conda.sh\n",
    "    - conda config --set always_yes yes --set changeps1 no\n",
    "    - conda config --add channels mjirik\n",
    "    - conda config --add channels conda-forge \n",
    "    - conda info -a # Useful for debugging any issues with conda\n",
    "install:\n",
    "    # - sudo apt-get install -qq $(< requirements_apt.txt)\n",
    "    - conda create -n travis --yes --file requirements_conda.txt python=$CONDA_PYTHON_VERSION pytest-cov coveralls pytest-mypy\n",
    "    - source activate travis\n",
    "    # - pip install -r requirements_pip.txt\n",
    "script:\n",
    "    - python -m pytest --cov=exsu/ -v --mypy --mypy-ignore-missing-imports\n",
    "after_success:\n",
    "    - coveralls\n",
    "```"
   ]
  },
  {
   "cell_type": "markdown",
   "metadata": {},
   "source": [
    "In the case of any problems, check [\"Build History\"](https://travis-ci.org/github/mjirik/data2tex/builds) for logs"
   ]
  },
  {
   "cell_type": "markdown",
   "metadata": {},
   "source": [
    "# Coveralls"
   ]
  },
  {
   "cell_type": "markdown",
   "metadata": {},
   "source": [
    "[ExSu coverage](Coverallhttps://coveralls.io/github/mjirik/exsu)"
   ]
  }
 ],
 "metadata": {
  "kernelspec": {
   "display_name": "Python 3",
   "language": "python",
   "name": "python3"
  },
  "language_info": {
   "codemirror_mode": {
    "name": "ipython",
    "version": 3
   },
   "file_extension": ".py",
   "mimetype": "text/x-python",
   "name": "python",
   "nbconvert_exporter": "python",
   "pygments_lexer": "ipython3",
   "version": "3.6.6"
  },
  "toc": {
   "base_numbering": 1,
   "nav_menu": {},
   "number_sections": true,
   "sideBar": true,
   "skip_h1_title": false,
   "title_cell": "Table of Contents",
   "title_sidebar": "Contents",
   "toc_cell": false,
   "toc_position": {},
   "toc_section_display": true,
   "toc_window_display": true
  }
 },
 "nbformat": 4,
 "nbformat_minor": 2
}
